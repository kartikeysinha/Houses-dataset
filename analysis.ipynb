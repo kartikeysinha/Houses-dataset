{
 "cells": [
  {
   "cell_type": "markdown",
   "metadata": {},
   "source": [
    "# Import standard libraries"
   ]
  },
  {
   "cell_type": "markdown",
   "metadata": {},
   "source": [
    "This analysis has taken inspiration from the research paper:\n",
    "https://arxiv.org/pdf/1609.08399.pdf"
   ]
  },
  {
   "cell_type": "code",
   "execution_count": 14,
   "metadata": {},
   "outputs": [],
   "source": [
    "import pandas as pd\n",
    "import numpy as np\n",
    "import matplotlib.pyplot as plt\n",
    "import os\n",
    "import glob\n",
    "import cv2"
   ]
  },
  {
   "cell_type": "markdown",
   "metadata": {},
   "source": [
    "# Import dataset"
   ]
  },
  {
   "cell_type": "markdown",
   "metadata": {},
   "source": [
    "The dataset comes in the following form:\n",
    "\n",
    "HousesInfo.txt: \n",
    "\n",
    "Corresponding Images of the houses\n",
    "\n",
    "\n",
    "\n",
    "Goal: Make the dataset in the following manner:\n"
   ]
  },
  {
   "cell_type": "markdown",
   "metadata": {},
   "source": [
    "## Get housing Attributes"
   ]
  },
  {
   "cell_type": "code",
   "execution_count": 15,
   "metadata": {},
   "outputs": [],
   "source": [
    "def get_house_attributes(iPath):\n",
    "    cols = [\"bedrooms\", \"bathrooms\", \"area\", \"zipcode\", \"price\"]\n",
    "    df = pd.read_csv(iPath, sep=\" \", header=None, names=cols)\n",
    "    return df"
   ]
  },
  {
   "cell_type": "code",
   "execution_count": 47,
   "metadata": {},
   "outputs": [
    {
     "data": {
      "text/html": [
       "<div>\n",
       "<style scoped>\n",
       "    .dataframe tbody tr th:only-of-type {\n",
       "        vertical-align: middle;\n",
       "    }\n",
       "\n",
       "    .dataframe tbody tr th {\n",
       "        vertical-align: top;\n",
       "    }\n",
       "\n",
       "    .dataframe thead th {\n",
       "        text-align: right;\n",
       "    }\n",
       "</style>\n",
       "<table border=\"1\" class=\"dataframe\">\n",
       "  <thead>\n",
       "    <tr style=\"text-align: right;\">\n",
       "      <th></th>\n",
       "      <th>bedrooms</th>\n",
       "      <th>bathrooms</th>\n",
       "      <th>area</th>\n",
       "      <th>zipcode</th>\n",
       "      <th>price</th>\n",
       "    </tr>\n",
       "  </thead>\n",
       "  <tbody>\n",
       "    <tr>\n",
       "      <th>0</th>\n",
       "      <td>4</td>\n",
       "      <td>4.0</td>\n",
       "      <td>4053</td>\n",
       "      <td>85255</td>\n",
       "      <td>869500</td>\n",
       "    </tr>\n",
       "    <tr>\n",
       "      <th>1</th>\n",
       "      <td>4</td>\n",
       "      <td>3.0</td>\n",
       "      <td>3343</td>\n",
       "      <td>36372</td>\n",
       "      <td>865200</td>\n",
       "    </tr>\n",
       "    <tr>\n",
       "      <th>2</th>\n",
       "      <td>3</td>\n",
       "      <td>4.0</td>\n",
       "      <td>3923</td>\n",
       "      <td>85266</td>\n",
       "      <td>889000</td>\n",
       "    </tr>\n",
       "    <tr>\n",
       "      <th>3</th>\n",
       "      <td>5</td>\n",
       "      <td>5.0</td>\n",
       "      <td>4022</td>\n",
       "      <td>85262</td>\n",
       "      <td>910000</td>\n",
       "    </tr>\n",
       "    <tr>\n",
       "      <th>4</th>\n",
       "      <td>3</td>\n",
       "      <td>4.0</td>\n",
       "      <td>4116</td>\n",
       "      <td>85266</td>\n",
       "      <td>971226</td>\n",
       "    </tr>\n",
       "  </tbody>\n",
       "</table>\n",
       "</div>"
      ],
      "text/plain": [
       "   bedrooms  bathrooms  area  zipcode   price\n",
       "0         4        4.0  4053    85255  869500\n",
       "1         4        3.0  3343    36372  865200\n",
       "2         3        4.0  3923    85266  889000\n",
       "3         5        5.0  4022    85262  910000\n",
       "4         3        4.0  4116    85266  971226"
      ]
     },
     "execution_count": 47,
     "metadata": {},
     "output_type": "execute_result"
    }
   ],
   "source": [
    "df = get_house_attributes(\"Houses Dataset/HousesInfo.txt\")\n",
    "df.head()"
   ]
  },
  {
   "cell_type": "code",
   "execution_count": 17,
   "metadata": {},
   "outputs": [],
   "source": [
    "def get_images(df, iPath):\n",
    "    images = []\n",
    "\n",
    "    for i in df.index.values:\n",
    "        basePath = os.path.sep.join([iPath, \"{}_*\".format(i + 1)])\n",
    "        paths = sorted(list(glob.glob(basePath)))\n",
    "        outImage = np.zeros((64,64,3), dtype=\"uint8\")\n",
    "        inImages = []\n",
    "\n",
    "        for p in paths:\n",
    "            image = cv2.imread(p)\n",
    "            image = cv2.resize(image, (32, 32))\n",
    "            inImages.append(image)\n",
    "\n",
    "        # Tile images\n",
    "        outImage[0:32, 0:32] = inImages[0]\n",
    "        outImage[0:32, 32:64] = inImages[1]\n",
    "        outImage[32:64, 0:32] = inImages[2]\n",
    "        outImage[32:64, 32:64] = inImages[3]\n",
    "\n",
    "        images.append(outImage)\n",
    "    \n",
    "    return np.array(images)\n",
    "    "
   ]
  },
  {
   "cell_type": "markdown",
   "metadata": {},
   "source": [
    "# Explaratory Data Analysis (EDA)"
   ]
  },
  {
   "cell_type": "code",
   "execution_count": 20,
   "metadata": {},
   "outputs": [
    {
     "data": {
      "text/html": [
       "<div>\n",
       "<style scoped>\n",
       "    .dataframe tbody tr th:only-of-type {\n",
       "        vertical-align: middle;\n",
       "    }\n",
       "\n",
       "    .dataframe tbody tr th {\n",
       "        vertical-align: top;\n",
       "    }\n",
       "\n",
       "    .dataframe thead th {\n",
       "        text-align: right;\n",
       "    }\n",
       "</style>\n",
       "<table border=\"1\" class=\"dataframe\">\n",
       "  <thead>\n",
       "    <tr style=\"text-align: right;\">\n",
       "      <th></th>\n",
       "      <th>bedrooms</th>\n",
       "      <th>bathrooms</th>\n",
       "      <th>area</th>\n",
       "      <th>zipcode</th>\n",
       "      <th>price</th>\n",
       "    </tr>\n",
       "  </thead>\n",
       "  <tbody>\n",
       "    <tr>\n",
       "      <th>0</th>\n",
       "      <td>4</td>\n",
       "      <td>4.0</td>\n",
       "      <td>4053</td>\n",
       "      <td>85255</td>\n",
       "      <td>869500</td>\n",
       "    </tr>\n",
       "    <tr>\n",
       "      <th>1</th>\n",
       "      <td>4</td>\n",
       "      <td>3.0</td>\n",
       "      <td>3343</td>\n",
       "      <td>36372</td>\n",
       "      <td>865200</td>\n",
       "    </tr>\n",
       "    <tr>\n",
       "      <th>2</th>\n",
       "      <td>3</td>\n",
       "      <td>4.0</td>\n",
       "      <td>3923</td>\n",
       "      <td>85266</td>\n",
       "      <td>889000</td>\n",
       "    </tr>\n",
       "    <tr>\n",
       "      <th>3</th>\n",
       "      <td>5</td>\n",
       "      <td>5.0</td>\n",
       "      <td>4022</td>\n",
       "      <td>85262</td>\n",
       "      <td>910000</td>\n",
       "    </tr>\n",
       "    <tr>\n",
       "      <th>4</th>\n",
       "      <td>3</td>\n",
       "      <td>4.0</td>\n",
       "      <td>4116</td>\n",
       "      <td>85266</td>\n",
       "      <td>971226</td>\n",
       "    </tr>\n",
       "  </tbody>\n",
       "</table>\n",
       "</div>"
      ],
      "text/plain": [
       "   bedrooms  bathrooms  area  zipcode   price\n",
       "0         4        4.0  4053    85255  869500\n",
       "1         4        3.0  3343    36372  865200\n",
       "2         3        4.0  3923    85266  889000\n",
       "3         5        5.0  4022    85262  910000\n",
       "4         3        4.0  4116    85266  971226"
      ]
     },
     "execution_count": 20,
     "metadata": {},
     "output_type": "execute_result"
    }
   ],
   "source": [
    "df.head()"
   ]
  },
  {
   "cell_type": "code",
   "execution_count": 22,
   "metadata": {},
   "outputs": [
    {
     "data": {
      "text/html": [
       "<div>\n",
       "<style scoped>\n",
       "    .dataframe tbody tr th:only-of-type {\n",
       "        vertical-align: middle;\n",
       "    }\n",
       "\n",
       "    .dataframe tbody tr th {\n",
       "        vertical-align: top;\n",
       "    }\n",
       "\n",
       "    .dataframe thead th {\n",
       "        text-align: right;\n",
       "    }\n",
       "</style>\n",
       "<table border=\"1\" class=\"dataframe\">\n",
       "  <thead>\n",
       "    <tr style=\"text-align: right;\">\n",
       "      <th></th>\n",
       "      <th>bedrooms</th>\n",
       "      <th>bathrooms</th>\n",
       "      <th>area</th>\n",
       "      <th>zipcode</th>\n",
       "      <th>price</th>\n",
       "    </tr>\n",
       "  </thead>\n",
       "  <tbody>\n",
       "    <tr>\n",
       "      <th>count</th>\n",
       "      <td>535.000000</td>\n",
       "      <td>535.000000</td>\n",
       "      <td>535.000000</td>\n",
       "      <td>535.000000</td>\n",
       "      <td>5.350000e+02</td>\n",
       "    </tr>\n",
       "    <tr>\n",
       "      <th>mean</th>\n",
       "      <td>3.377570</td>\n",
       "      <td>2.664953</td>\n",
       "      <td>2364.904673</td>\n",
       "      <td>90937.768224</td>\n",
       "      <td>5.893628e+05</td>\n",
       "    </tr>\n",
       "    <tr>\n",
       "      <th>std</th>\n",
       "      <td>1.160952</td>\n",
       "      <td>0.995077</td>\n",
       "      <td>1224.556982</td>\n",
       "      <td>7141.857452</td>\n",
       "      <td>5.090261e+05</td>\n",
       "    </tr>\n",
       "    <tr>\n",
       "      <th>min</th>\n",
       "      <td>1.000000</td>\n",
       "      <td>1.000000</td>\n",
       "      <td>701.000000</td>\n",
       "      <td>36372.000000</td>\n",
       "      <td>2.200000e+04</td>\n",
       "    </tr>\n",
       "    <tr>\n",
       "      <th>25%</th>\n",
       "      <td>3.000000</td>\n",
       "      <td>2.000000</td>\n",
       "      <td>1440.000000</td>\n",
       "      <td>92276.000000</td>\n",
       "      <td>2.492000e+05</td>\n",
       "    </tr>\n",
       "    <tr>\n",
       "      <th>50%</th>\n",
       "      <td>3.000000</td>\n",
       "      <td>2.500000</td>\n",
       "      <td>2078.000000</td>\n",
       "      <td>92880.000000</td>\n",
       "      <td>5.290000e+05</td>\n",
       "    </tr>\n",
       "    <tr>\n",
       "      <th>75%</th>\n",
       "      <td>4.000000</td>\n",
       "      <td>3.000000</td>\n",
       "      <td>3067.500000</td>\n",
       "      <td>93510.000000</td>\n",
       "      <td>7.285000e+05</td>\n",
       "    </tr>\n",
       "    <tr>\n",
       "      <th>max</th>\n",
       "      <td>10.000000</td>\n",
       "      <td>7.000000</td>\n",
       "      <td>9583.000000</td>\n",
       "      <td>98021.000000</td>\n",
       "      <td>5.858000e+06</td>\n",
       "    </tr>\n",
       "  </tbody>\n",
       "</table>\n",
       "</div>"
      ],
      "text/plain": [
       "         bedrooms   bathrooms         area       zipcode         price\n",
       "count  535.000000  535.000000   535.000000    535.000000  5.350000e+02\n",
       "mean     3.377570    2.664953  2364.904673  90937.768224  5.893628e+05\n",
       "std      1.160952    0.995077  1224.556982   7141.857452  5.090261e+05\n",
       "min      1.000000    1.000000   701.000000  36372.000000  2.200000e+04\n",
       "25%      3.000000    2.000000  1440.000000  92276.000000  2.492000e+05\n",
       "50%      3.000000    2.500000  2078.000000  92880.000000  5.290000e+05\n",
       "75%      4.000000    3.000000  3067.500000  93510.000000  7.285000e+05\n",
       "max     10.000000    7.000000  9583.000000  98021.000000  5.858000e+06"
      ]
     },
     "execution_count": 22,
     "metadata": {},
     "output_type": "execute_result"
    }
   ],
   "source": [
    "df.describe()"
   ]
  },
  {
   "cell_type": "markdown",
   "metadata": {},
   "source": [
    "### Explore Zipcode (categorical variable)"
   ]
  },
  {
   "cell_type": "markdown",
   "metadata": {},
   "source": [
    "There are many zipcodes which do not have many instances. In this case, we try to 'generalize' the zipcodes by dropping 2 (and later, 3) of the least significant digits). Our argument is that the zipcodes with the same most significant digits fall in the same geeographical area and hence might have still retain similarities. This can help the prediction get more accurate. To test this, we will also predict numbers without any processing of the zipcode as a base case. "
   ]
  },
  {
   "cell_type": "code",
   "execution_count": 48,
   "metadata": {},
   "outputs": [],
   "source": [
    "df[\"zipcode\"] = df[\"zipcode\"].round(decimals=-2)"
   ]
  },
  {
   "cell_type": "code",
   "execution_count": 49,
   "metadata": {},
   "outputs": [
    {
     "data": {
      "text/html": [
       "<div>\n",
       "<style scoped>\n",
       "    .dataframe tbody tr th:only-of-type {\n",
       "        vertical-align: middle;\n",
       "    }\n",
       "\n",
       "    .dataframe tbody tr th {\n",
       "        vertical-align: top;\n",
       "    }\n",
       "\n",
       "    .dataframe thead th {\n",
       "        text-align: right;\n",
       "    }\n",
       "</style>\n",
       "<table border=\"1\" class=\"dataframe\">\n",
       "  <thead>\n",
       "    <tr style=\"text-align: right;\">\n",
       "      <th></th>\n",
       "      <th>bedrooms</th>\n",
       "      <th>bathrooms</th>\n",
       "      <th>area</th>\n",
       "      <th>zipcode</th>\n",
       "      <th>price</th>\n",
       "    </tr>\n",
       "  </thead>\n",
       "  <tbody>\n",
       "    <tr>\n",
       "      <th>0</th>\n",
       "      <td>4</td>\n",
       "      <td>4.0</td>\n",
       "      <td>4053</td>\n",
       "      <td>85300</td>\n",
       "      <td>869500</td>\n",
       "    </tr>\n",
       "    <tr>\n",
       "      <th>1</th>\n",
       "      <td>4</td>\n",
       "      <td>3.0</td>\n",
       "      <td>3343</td>\n",
       "      <td>36400</td>\n",
       "      <td>865200</td>\n",
       "    </tr>\n",
       "    <tr>\n",
       "      <th>2</th>\n",
       "      <td>3</td>\n",
       "      <td>4.0</td>\n",
       "      <td>3923</td>\n",
       "      <td>85300</td>\n",
       "      <td>889000</td>\n",
       "    </tr>\n",
       "    <tr>\n",
       "      <th>3</th>\n",
       "      <td>5</td>\n",
       "      <td>5.0</td>\n",
       "      <td>4022</td>\n",
       "      <td>85300</td>\n",
       "      <td>910000</td>\n",
       "    </tr>\n",
       "    <tr>\n",
       "      <th>4</th>\n",
       "      <td>3</td>\n",
       "      <td>4.0</td>\n",
       "      <td>4116</td>\n",
       "      <td>85300</td>\n",
       "      <td>971226</td>\n",
       "    </tr>\n",
       "  </tbody>\n",
       "</table>\n",
       "</div>"
      ],
      "text/plain": [
       "   bedrooms  bathrooms  area  zipcode   price\n",
       "0         4        4.0  4053    85300  869500\n",
       "1         4        3.0  3343    36400  865200\n",
       "2         3        4.0  3923    85300  889000\n",
       "3         5        5.0  4022    85300  910000\n",
       "4         3        4.0  4116    85300  971226"
      ]
     },
     "execution_count": 49,
     "metadata": {},
     "output_type": "execute_result"
    }
   ],
   "source": [
    "df.head()"
   ]
  },
  {
   "cell_type": "code",
   "execution_count": 50,
   "metadata": {},
   "outputs": [],
   "source": [
    "zipcodes = df[\"zipcode\"].value_counts().keys().tolist()\n",
    "counts = df[\"zipcode\"].value_counts().tolist()"
   ]
  },
  {
   "cell_type": "code",
   "execution_count": 51,
   "metadata": {},
   "outputs": [],
   "source": [
    "d = dict(zip(zipcodes, counts))"
   ]
  },
  {
   "cell_type": "code",
   "execution_count": 53,
   "metadata": {},
   "outputs": [
    {
     "name": "stdout",
     "output_type": "stream",
     "text": [
      "{92300: 102, 94500: 63, 93500: 60, 93400: 54, 92900: 49, 91900: 33, 85300: 33, 92700: 28, 81500: 12, 93100: 12, 92000: 12, 96000: 12, 62200: 12, 95200: 10, 92800: 9, 60000: 6, 98000: 4, 62000: 3, 91800: 3, 85400: 3, 94600: 2, 81400: 2, 93700: 1, 36400: 1, 92500: 1, 90800: 1, 93900: 1, 62100: 1, 95000: 1, 90300: 1, 90000: 1, 93300: 1, 90200: 1}\n"
     ]
    }
   ],
   "source": [
    "print(d)"
   ]
  },
  {
   "cell_type": "markdown",
   "metadata": {},
   "source": [
    "We only keep the zipcode areas with instances more than 25. Simultaneouly, we will need to delete the images as well."
   ]
  },
  {
   "cell_type": "code",
   "execution_count": 55,
   "metadata": {},
   "outputs": [],
   "source": [
    "for (zipcode, count) in zip(zipcodes, counts):\n",
    "    if count < 25:\n",
    "        idxs = df[df[\"zipcode\"] == zipcode].index\n",
    "        df.drop(idxs, inplace=True)\n",
    "        "
   ]
  },
  {
   "cell_type": "code",
   "execution_count": 58,
   "metadata": {},
   "outputs": [
    {
     "data": {
      "text/plain": [
       "2110"
      ]
     },
     "execution_count": 58,
     "metadata": {},
     "output_type": "execute_result"
    }
   ],
   "source": [
    "df.size"
   ]
  },
  {
   "cell_type": "markdown",
   "metadata": {},
   "source": [
    "## Get images based on remaining index"
   ]
  },
  {
   "cell_type": "code",
   "execution_count": 59,
   "metadata": {},
   "outputs": [
    {
     "name": "stdout",
     "output_type": "stream",
     "text": [
      "422\n"
     ]
    }
   ],
   "source": [
    "images = get_images(df, \"Houses Dataset/\")\n",
    "print(len(images))"
   ]
  },
  {
   "cell_type": "markdown",
   "metadata": {},
   "source": [
    "# Model Building"
   ]
  },
  {
   "cell_type": "markdown",
   "metadata": {},
   "source": [
    "## Preprocessing"
   ]
  },
  {
   "cell_type": "code",
   "execution_count": null,
   "metadata": {},
   "outputs": [],
   "source": []
  },
  {
   "cell_type": "markdown",
   "metadata": {},
   "source": [
    "## Training"
   ]
  },
  {
   "cell_type": "code",
   "execution_count": null,
   "metadata": {},
   "outputs": [],
   "source": []
  },
  {
   "cell_type": "markdown",
   "metadata": {},
   "source": [
    "## Testing"
   ]
  },
  {
   "cell_type": "code",
   "execution_count": null,
   "metadata": {},
   "outputs": [],
   "source": []
  },
  {
   "cell_type": "markdown",
   "metadata": {},
   "source": [
    "# Conclusion"
   ]
  },
  {
   "cell_type": "code",
   "execution_count": null,
   "metadata": {},
   "outputs": [],
   "source": []
  }
 ],
 "metadata": {
  "kernelspec": {
   "display_name": "Python 3.7.6 ('base')",
   "language": "python",
   "name": "python3"
  },
  "language_info": {
   "codemirror_mode": {
    "name": "ipython",
    "version": 3
   },
   "file_extension": ".py",
   "mimetype": "text/x-python",
   "name": "python",
   "nbconvert_exporter": "python",
   "pygments_lexer": "ipython3",
   "version": "3.7.6"
  },
  "orig_nbformat": 4,
  "vscode": {
   "interpreter": {
    "hash": "15c25ea4d3c648bf5afa2e70c34674b7ff3f430a6d2bca4d09fb64f8af7135ed"
   }
  }
 },
 "nbformat": 4,
 "nbformat_minor": 2
}
